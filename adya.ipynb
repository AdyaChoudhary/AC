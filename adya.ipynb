{
 "cells": [
  {
   "cell_type": "code",
   "execution_count": 24,
   "metadata": {},
   "outputs": [],
   "source": [
    "# list methods\n",
    "# copy method\n",
    "\n",
    "qlist = [ 2, 56, \"apple\", 394.3, True, \"hi\", 23232]\n",
    "qlist2 = qlist.copy()"
   ]
  },
  {
   "cell_type": "code",
   "execution_count": 25,
   "metadata": {},
   "outputs": [
    {
     "data": {
      "text/plain": [
       "([2, 56, 'apple', 394.3, True, 'hi', 23232],\n",
       " [2, 56, 'apple', 394.3, True, 'hi', 23232])"
      ]
     },
     "execution_count": 25,
     "metadata": {},
     "output_type": "execute_result"
    }
   ],
   "source": [
    "qlist, qlist2"
   ]
  },
  {
   "cell_type": "code",
   "execution_count": 26,
   "metadata": {},
   "outputs": [
    {
     "data": {
      "text/plain": [
       "[]"
      ]
     },
     "execution_count": 26,
     "metadata": {},
     "output_type": "execute_result"
    }
   ],
   "source": [
    "# clear method\n",
    "# clears all the elements from a list\n",
    "qlist2.clear()\n",
    "qlist2"
   ]
  },
  {
   "cell_type": "code",
   "execution_count": 28,
   "metadata": {},
   "outputs": [
    {
     "data": {
      "text/plain": [
       "4"
      ]
     },
     "execution_count": 28,
     "metadata": {},
     "output_type": "execute_result"
    }
   ],
   "source": [
    "# index \n",
    "# to get index of element from list\n",
    "qlist.index(True)"
   ]
  },
  {
   "cell_type": "code",
   "execution_count": 32,
   "metadata": {},
   "outputs": [
    {
     "data": {
      "text/plain": [
       "[2, 56, 'Volvo', 'Volvo', 'apple', 394.3, True, 'hi', 23232]"
      ]
     },
     "execution_count": 32,
     "metadata": {},
     "output_type": "execute_result"
    }
   ],
   "source": [
    "# insert \n",
    "# to add elements in list on a specific index\n",
    "qlist.insert(2, \"Volvo\")\n",
    "qlist"
   ]
  },
  {
   "cell_type": "code",
   "execution_count": 34,
   "metadata": {},
   "outputs": [
    {
     "data": {
      "text/plain": [
       "'Volvo'"
      ]
     },
     "execution_count": 34,
     "metadata": {},
     "output_type": "execute_result"
    }
   ],
   "source": [
    "# pop\n",
    "# removes element from specified index\n",
    "\n",
    "qlist.pop(2)"
   ]
  },
  {
   "cell_type": "code",
   "execution_count": 35,
   "metadata": {},
   "outputs": [
    {
     "data": {
      "text/plain": [
       "[2, 56, 'Volvo', 'apple', 394.3, True, 'hi', 23232]"
      ]
     },
     "execution_count": 35,
     "metadata": {},
     "output_type": "execute_result"
    }
   ],
   "source": [
    "qlist"
   ]
  },
  {
   "cell_type": "code",
   "execution_count": 38,
   "metadata": {},
   "outputs": [],
   "source": [
    "# remove\n",
    "# remove element from list using the element\n",
    "\n",
    "\n",
    "qlist.remove(\"hi\")"
   ]
  },
  {
   "cell_type": "code",
   "execution_count": 39,
   "metadata": {},
   "outputs": [
    {
     "data": {
      "text/plain": [
       "[2, 56, 'Volvo', 'apple', 394.3, True, 23232]"
      ]
     },
     "execution_count": 39,
     "metadata": {},
     "output_type": "execute_result"
    }
   ],
   "source": [
    "qlist"
   ]
  },
  {
   "cell_type": "code",
   "execution_count": 46,
   "metadata": {},
   "outputs": [
    {
     "data": {
      "text/plain": [
       "[23232, True, 394.3, 'apple', 'Volvo', 56, 2]"
      ]
     },
     "execution_count": 46,
     "metadata": {},
     "output_type": "execute_result"
    }
   ],
   "source": [
    "# reverse\n",
    "# ulta kar deta hai list ko\n",
    "\n",
    "qlist.reverse()\n",
    "qlist"
   ]
  },
  {
   "cell_type": "code",
   "execution_count": 58,
   "metadata": {},
   "outputs": [
    {
     "data": {
      "text/plain": [
       "['aarun', 'adya', 'aryan', 'ashish', 'bhanu', 'debu', 'zarar']"
      ]
     },
     "execution_count": 58,
     "metadata": {},
     "output_type": "execute_result"
    }
   ],
   "source": [
    "# sort\n",
    "# re-arranging the list in ascending order\n",
    "qlist3 = [\"adya\", \"ashish\", 'aarun', \"debu\", \"aryan\", \"bhanu\", \"zarar\"]\n",
    "qlist3.sort()\n",
    "qlist3"
   ]
  },
  {
   "cell_type": "code",
   "execution_count": 1,
   "metadata": {},
   "outputs": [
    {
     "data": {
      "text/plain": [
       "dict"
      ]
     },
     "execution_count": 1,
     "metadata": {},
     "output_type": "execute_result"
    }
   ],
   "source": [
    "# dictionary\n",
    "# dictionary is the 4th collection datatype of python which has KEY-VAlUE pairs\n",
    "\n",
    "d1 = {}   # empty dict\n",
    "\n",
    "type(d1)"
   ]
  },
  {
   "cell_type": "code",
   "execution_count": 2,
   "metadata": {},
   "outputs": [],
   "source": [
    "d1[\"car\"] = \"Volvo\""
   ]
  },
  {
   "cell_type": "code",
   "execution_count": 3,
   "metadata": {},
   "outputs": [
    {
     "data": {
      "text/plain": [
       "{'car': 'Volvo'}"
      ]
     },
     "execution_count": 3,
     "metadata": {},
     "output_type": "execute_result"
    }
   ],
   "source": [
    "d1"
   ]
  },
  {
   "cell_type": "code",
   "execution_count": 12,
   "metadata": {},
   "outputs": [],
   "source": [
    "student = {\n",
    "    \"name1\" : \"Anshuman\",\n",
    "    \"class\" : \"1st\",\n",
    "    \"roll_number\" : 123,\n",
    "    \"percentage\" : 88.9\n",
    "}"
   ]
  },
  {
   "cell_type": "code",
   "execution_count": 15,
   "metadata": {},
   "outputs": [
    {
     "data": {
      "text/plain": [
       "123"
      ]
     },
     "execution_count": 15,
     "metadata": {},
     "output_type": "execute_result"
    }
   ],
   "source": [
    "student[\"roll_number\"]"
   ]
  },
  {
   "cell_type": "code",
   "execution_count": 25,
   "metadata": {},
   "outputs": [
    {
     "name": "stdout",
     "output_type": "stream",
     "text": [
      "there is no such key as NAME, check your key\n"
     ]
    }
   ],
   "source": [
    "try:\n",
    "    student[\"name\"]\n",
    "except:\n",
    "    print(\"there is no such key as NAME, check your key\")"
   ]
  },
  {
   "cell_type": "code",
   "execution_count": 18,
   "metadata": {},
   "outputs": [],
   "source": [
    "student.get(\"name\")"
   ]
  },
  {
   "cell_type": "code",
   "execution_count": 26,
   "metadata": {},
   "outputs": [
    {
     "data": {
      "text/plain": [
       "{'name1': 'Anshuman', 'class': '1st', 'roll_number': 123, 'percentage': 88.9}"
      ]
     },
     "execution_count": 26,
     "metadata": {},
     "output_type": "execute_result"
    }
   ],
   "source": [
    "student"
   ]
  },
  {
   "cell_type": "code",
   "execution_count": 27,
   "metadata": {},
   "outputs": [],
   "source": [
    "student[\"section\"] = \"A\""
   ]
  },
  {
   "cell_type": "code",
   "execution_count": 39,
   "metadata": {},
   "outputs": [
    {
     "data": {
      "text/plain": [
       "{'name1': 'Adya',\n",
       " 'class': '1st',\n",
       " 'roll_number': 123,\n",
       " 'percentage': 88.9,\n",
       " 'section': 'A',\n",
       " 'name': 'Adya'}"
      ]
     },
     "execution_count": 39,
     "metadata": {},
     "output_type": "execute_result"
    }
   ],
   "source": [
    "student[\"name\"] = \"Adya\"\n",
    "student"
   ]
  },
  {
   "cell_type": "code",
   "execution_count": 43,
   "metadata": {},
   "outputs": [
    {
     "name": "stdout",
     "output_type": "stream",
     "text": [
      "class is the key of 1st\n",
      "roll_number is the key of 123\n",
      "percentage is the key of 88.9\n",
      "section is the key of A\n",
      "name is the key of Adya\n"
     ]
    }
   ],
   "source": [
    "for delhi, noida in student.items():\n",
    "    print(\"{} is the key of {}\".format(delhi, noida))"
   ]
  },
  {
   "cell_type": "code",
   "execution_count": 41,
   "metadata": {},
   "outputs": [],
   "source": [
    "del student[\"name1\"]"
   ]
  },
  {
   "cell_type": "code",
   "execution_count": 44,
   "metadata": {},
   "outputs": [
    {
     "data": {
      "text/plain": [
       "{'class': '1st',\n",
       " 'roll_number': 123,\n",
       " 'percentage': 88.9,\n",
       " 'section': 'A',\n",
       " 'name': 'Adya'}"
      ]
     },
     "execution_count": 44,
     "metadata": {},
     "output_type": "execute_result"
    }
   ],
   "source": [
    "student\n"
   ]
  },
  {
   "cell_type": "code",
   "execution_count": 45,
   "metadata": {},
   "outputs": [
    {
     "data": {
      "text/plain": [
       "'Adya'"
      ]
     },
     "execution_count": 45,
     "metadata": {},
     "output_type": "execute_result"
    }
   ],
   "source": [
    "student.pop(\"name\")"
   ]
  },
  {
   "cell_type": "code",
   "execution_count": 46,
   "metadata": {},
   "outputs": [
    {
     "data": {
      "text/plain": [
       "{'class': '1st', 'roll_number': 123, 'percentage': 88.9, 'section': 'A'}"
      ]
     },
     "execution_count": 46,
     "metadata": {},
     "output_type": "execute_result"
    }
   ],
   "source": [
    "student"
   ]
  },
  {
   "cell_type": "code",
   "execution_count": 47,
   "metadata": {},
   "outputs": [
    {
     "data": {
      "text/plain": [
       "('section', 'A')"
      ]
     },
     "execution_count": 47,
     "metadata": {},
     "output_type": "execute_result"
    }
   ],
   "source": [
    "student.popitem()"
   ]
  },
  {
   "cell_type": "code",
   "execution_count": 48,
   "metadata": {},
   "outputs": [
    {
     "data": {
      "text/plain": [
       "{'car': 'Volvo'}"
      ]
     },
     "execution_count": 48,
     "metadata": {},
     "output_type": "execute_result"
    }
   ],
   "source": [
    "d1"
   ]
  },
  {
   "cell_type": "code",
   "execution_count": 49,
   "metadata": {},
   "outputs": [],
   "source": [
    "d1.clear()\n"
   ]
  },
  {
   "cell_type": "code",
   "execution_count": 50,
   "metadata": {},
   "outputs": [
    {
     "data": {
      "text/plain": [
       "{}"
      ]
     },
     "execution_count": 50,
     "metadata": {},
     "output_type": "execute_result"
    }
   ],
   "source": [
    "d1"
   ]
  },
  {
   "cell_type": "code",
   "execution_count": 51,
   "metadata": {},
   "outputs": [
    {
     "data": {
      "text/plain": [
       "{'class': '1st', 'roll_number': 123, 'percentage': 88.9}"
      ]
     },
     "execution_count": 51,
     "metadata": {},
     "output_type": "execute_result"
    }
   ],
   "source": [
    "student"
   ]
  },
  {
   "cell_type": "code",
   "execution_count": 52,
   "metadata": {},
   "outputs": [
    {
     "data": {
      "text/plain": [
       "{}"
      ]
     },
     "execution_count": 52,
     "metadata": {},
     "output_type": "execute_result"
    }
   ],
   "source": [
    "d1"
   ]
  },
  {
   "cell_type": "code",
   "execution_count": 53,
   "metadata": {},
   "outputs": [],
   "source": [
    "d1 = student"
   ]
  },
  {
   "cell_type": "code",
   "execution_count": 54,
   "metadata": {},
   "outputs": [
    {
     "data": {
      "text/plain": [
       "{'class': '1st', 'roll_number': 123, 'percentage': 88.9}"
      ]
     },
     "execution_count": 54,
     "metadata": {},
     "output_type": "execute_result"
    }
   ],
   "source": [
    "d1"
   ]
  },
  {
   "cell_type": "code",
   "execution_count": 55,
   "metadata": {},
   "outputs": [],
   "source": [
    "student[\"name\"] = \"camp k12\""
   ]
  },
  {
   "cell_type": "code",
   "execution_count": 56,
   "metadata": {},
   "outputs": [
    {
     "data": {
      "text/plain": [
       "{'class': '1st', 'roll_number': 123, 'percentage': 88.9, 'name': 'camp k12'}"
      ]
     },
     "execution_count": 56,
     "metadata": {},
     "output_type": "execute_result"
    }
   ],
   "source": [
    "student"
   ]
  },
  {
   "cell_type": "code",
   "execution_count": 57,
   "metadata": {},
   "outputs": [
    {
     "data": {
      "text/plain": [
       "{'class': '1st', 'roll_number': 123, 'percentage': 88.9, 'name': 'camp k12'}"
      ]
     },
     "execution_count": 57,
     "metadata": {},
     "output_type": "execute_result"
    }
   ],
   "source": [
    "d1"
   ]
  },
  {
   "cell_type": "code",
   "execution_count": 58,
   "metadata": {},
   "outputs": [],
   "source": [
    "d1 = student.copy()"
   ]
  },
  {
   "cell_type": "code",
   "execution_count": 59,
   "metadata": {},
   "outputs": [
    {
     "data": {
      "text/plain": [
       "{'class': '1st', 'roll_number': 123, 'percentage': 88.9, 'name': 'camp k12'}"
      ]
     },
     "execution_count": 59,
     "metadata": {},
     "output_type": "execute_result"
    }
   ],
   "source": [
    "d1"
   ]
  },
  {
   "cell_type": "code",
   "execution_count": 60,
   "metadata": {},
   "outputs": [],
   "source": [
    "student[\"email\"] = \"ojdbo@djb.com\""
   ]
  },
  {
   "cell_type": "code",
   "execution_count": 61,
   "metadata": {},
   "outputs": [
    {
     "data": {
      "text/plain": [
       "{'class': '1st',\n",
       " 'roll_number': 123,\n",
       " 'percentage': 88.9,\n",
       " 'name': 'camp k12',\n",
       " 'email': 'ojdbo@djb.com'}"
      ]
     },
     "execution_count": 61,
     "metadata": {},
     "output_type": "execute_result"
    }
   ],
   "source": [
    "student"
   ]
  },
  {
   "cell_type": "code",
   "execution_count": 62,
   "metadata": {},
   "outputs": [
    {
     "data": {
      "text/plain": [
       "{'class': '1st', 'roll_number': 123, 'percentage': 88.9, 'name': 'camp k12'}"
      ]
     },
     "execution_count": 62,
     "metadata": {},
     "output_type": "execute_result"
    }
   ],
   "source": [
    "d1"
   ]
  },
  {
   "cell_type": "code",
   "execution_count": 66,
   "metadata": {},
   "outputs": [],
   "source": [
    "#casting\n",
    "\n",
    "\n",
    "lst = list(range(1,10))"
   ]
  },
  {
   "cell_type": "code",
   "execution_count": 73,
   "metadata": {},
   "outputs": [
    {
     "data": {
      "text/plain": [
       "(1, 2, 3, 4, 5, 6, 7, 8, 9)"
      ]
     },
     "execution_count": 73,
     "metadata": {},
     "output_type": "execute_result"
    }
   ],
   "source": [
    "lst"
   ]
  },
  {
   "cell_type": "code",
   "execution_count": 77,
   "metadata": {},
   "outputs": [
    {
     "data": {
      "text/plain": [
       "{1, 2, 3, 4, 5, 6, 7, 8, 9}"
      ]
     },
     "execution_count": 77,
     "metadata": {},
     "output_type": "execute_result"
    }
   ],
   "source": [
    "lst = set(lst)\n",
    "lst"
   ]
  },
  {
   "cell_type": "code",
   "execution_count": 85,
   "metadata": {},
   "outputs": [
    {
     "data": {
      "text/plain": [
       "['belgium', 'india', 'africa', 'bhutan', 'netherlands', 'finland']"
      ]
     },
     "execution_count": 85,
     "metadata": {},
     "output_type": "execute_result"
    }
   ],
   "source": [
    "lst = list(lst)\n",
    "lst = [\"belgium\", \"india\", \"africa\", \"bhutan\", \"netherlands\", \"finland\"]\n",
    "lst"
   ]
  },
  {
   "cell_type": "code",
   "execution_count": 121,
   "metadata": {},
   "outputs": [
    {
     "data": {
      "text/plain": [
       "{0: 'belgium',\n",
       " 1: 'india',\n",
       " 2: 'africa',\n",
       " 3: 'bhutan',\n",
       " 4: 'netherlands',\n",
       " 5: 'finland'}"
      ]
     },
     "execution_count": 121,
     "metadata": {},
     "output_type": "execute_result"
    }
   ],
   "source": [
    "cdict = {}\n",
    "for index, value in enumerate(lst):\n",
    "    cdict[index] = value\n",
    "cdict"
   ]
  },
  {
   "cell_type": "code",
   "execution_count": 122,
   "metadata": {},
   "outputs": [
    {
     "data": {
      "text/plain": [
       "'india'"
      ]
     },
     "execution_count": 122,
     "metadata": {},
     "output_type": "execute_result"
    }
   ],
   "source": [
    "cdict.get(1)"
   ]
  },
  {
   "cell_type": "code",
   "execution_count": 123,
   "metadata": {},
   "outputs": [],
   "source": [
    "ndict = {\n",
    "    1:{\n",
    "        \"name\": \"anshuman\",\n",
    "        \"house\": \"blue\",\n",
    "    },\n",
    "    \n",
    "     2:{\n",
    "        \"name\": \"adya\",\n",
    "        \"house\": \"red\",\n",
    "    },\n",
    "    \n",
    "    3:{\n",
    "        \"name\": \"camp k12\",\n",
    "        \"house\": \"white\",\n",
    "    },\n",
    "    \n",
    "}"
   ]
  },
  {
   "cell_type": "code",
   "execution_count": 125,
   "metadata": {},
   "outputs": [
    {
     "data": {
      "text/plain": [
       "'white'"
      ]
     },
     "execution_count": 125,
     "metadata": {},
     "output_type": "execute_result"
    }
   ],
   "source": [
    "ndict[3][\"house\"]"
   ]
  },
  {
   "cell_type": "code",
   "execution_count": 128,
   "metadata": {},
   "outputs": [],
   "source": [
    "ndict[4] = {\"name\": \"abc\", \"house\": \"tulip\"}"
   ]
  },
  {
   "cell_type": "code",
   "execution_count": 129,
   "metadata": {},
   "outputs": [
    {
     "data": {
      "text/plain": [
       "{1: {'name': 'anshuman', 'house': 'blue'},\n",
       " 2: {'name': 'adya', 'house': 'red'},\n",
       " 3: {'name': 'camp k12', 'house': 'white'},\n",
       " '4': {'name': 'abc', 'house': 'tulip'},\n",
       " 4: {'name': 'abc', 'house': 'tulip'}}"
      ]
     },
     "execution_count": 129,
     "metadata": {},
     "output_type": "execute_result"
    }
   ],
   "source": [
    "ndict"
   ]
  },
  {
   "cell_type": "code",
   "execution_count": 130,
   "metadata": {},
   "outputs": [
    {
     "data": {
      "text/plain": [
       "{'name': 'abc', 'house': 'tulip'}"
      ]
     },
     "execution_count": 130,
     "metadata": {},
     "output_type": "execute_result"
    }
   ],
   "source": [
    "ndict.pop(\"4\")"
   ]
  },
  {
   "cell_type": "code",
   "execution_count": 131,
   "metadata": {},
   "outputs": [
    {
     "data": {
      "text/plain": [
       "{1: {'name': 'anshuman', 'house': 'blue'},\n",
       " 2: {'name': 'adya', 'house': 'red'},\n",
       " 3: {'name': 'camp k12', 'house': 'white'},\n",
       " 4: {'name': 'abc', 'house': 'tulip'}}"
      ]
     },
     "execution_count": 131,
     "metadata": {},
     "output_type": "execute_result"
    }
   ],
   "source": [
    "ndict"
   ]
  },
  {
   "cell_type": "code",
   "execution_count": 132,
   "metadata": {},
   "outputs": [],
   "source": [
    "ndict[4][\"name\"] = \"qwerty\""
   ]
  },
  {
   "cell_type": "code",
   "execution_count": 133,
   "metadata": {},
   "outputs": [
    {
     "data": {
      "text/plain": [
       "{1: {'name': 'anshuman', 'house': 'blue'},\n",
       " 2: {'name': 'adya', 'house': 'red'},\n",
       " 3: {'name': 'camp k12', 'house': 'white'},\n",
       " 4: {'name': 'qwerty', 'house': 'tulip'}}"
      ]
     },
     "execution_count": 133,
     "metadata": {},
     "output_type": "execute_result"
    }
   ],
   "source": [
    "ndict"
   ]
  },
  {
   "cell_type": "code",
   "execution_count": 137,
   "metadata": {},
   "outputs": [
    {
     "data": {
      "text/plain": [
       "({1: {'name': 'anshuman', 'house': 'blue'},\n",
       "  2: {'name': 'adya', 'house': 'red'},\n",
       "  3: {'name': 'camp k12', 'house': 'white'},\n",
       "  4: {'name': 'qwerty', 'house': 'tulip'}},\n",
       " {0: 'belgium',\n",
       "  1: 'india',\n",
       "  2: 'africa',\n",
       "  3: 'bhutan',\n",
       "  4: 'netherlands',\n",
       "  5: 'finland'},\n",
       " {'class': '1st', 'roll_number': 123, 'percentage': 88.9, 'name': 'camp k12'})"
      ]
     },
     "execution_count": 137,
     "metadata": {},
     "output_type": "execute_result"
    }
   ],
   "source": [
    "ndict, cdict, d1"
   ]
  },
  {
   "cell_type": "code",
   "execution_count": 153,
   "metadata": {},
   "outputs": [
    {
     "data": {
      "text/plain": [
       "(['belgium',\n",
       "  'india',\n",
       "  'africa',\n",
       "  'bhutan',\n",
       "  'netherlands',\n",
       "  'finland',\n",
       "  'aarun',\n",
       "  'adya',\n",
       "  'aryan',\n",
       "  'ashish',\n",
       "  'bhanu',\n",
       "  'debu',\n",
       "  'zarar'],\n",
       " ['aarun', 'adya', 'aryan', 'ashish', 'bhanu', 'debu', 'zarar'])"
      ]
     },
     "execution_count": 153,
     "metadata": {},
     "output_type": "execute_result"
    }
   ],
   "source": [
    "clubbed = {}\n",
    "qlist3 = ['aarun', 'adya', 'aryan', 'ashish', 'bhanu', 'debu', 'zarar']\n",
    "lst, qlist3"
   ]
  },
  {
   "cell_type": "code",
   "execution_count": 154,
   "metadata": {},
   "outputs": [],
   "source": [
    "lst = lst + qlist3"
   ]
  },
  {
   "cell_type": "code",
   "execution_count": 155,
   "metadata": {},
   "outputs": [
    {
     "data": {
      "text/plain": [
       "['belgium',\n",
       " 'india',\n",
       " 'africa',\n",
       " 'bhutan',\n",
       " 'netherlands',\n",
       " 'finland',\n",
       " 'aarun',\n",
       " 'adya',\n",
       " 'aryan',\n",
       " 'ashish',\n",
       " 'bhanu',\n",
       " 'debu',\n",
       " 'zarar',\n",
       " 'aarun',\n",
       " 'adya',\n",
       " 'aryan',\n",
       " 'ashish',\n",
       " 'bhanu',\n",
       " 'debu',\n",
       " 'zarar']"
      ]
     },
     "execution_count": 155,
     "metadata": {},
     "output_type": "execute_result"
    }
   ],
   "source": [
    "lst"
   ]
  },
  {
   "cell_type": "code",
   "execution_count": 170,
   "metadata": {},
   "outputs": [
    {
     "data": {
      "text/plain": [
       "{1: {'name': 'anshuman', 'house': 'blue'},\n",
       " 2: {'name': 'adya', 'house': 'red'},\n",
       " 3: {'name': 'camp k12', 'house': 'white'},\n",
       " 4: {'name': 'qwerty', 'house': 'tulip'}}"
      ]
     },
     "execution_count": 170,
     "metadata": {},
     "output_type": "execute_result"
    }
   ],
   "source": [
    "clubbed = {}\n",
    "clubbed.update(ndict)\n",
    "clubbed"
   ]
  },
  {
   "cell_type": "code",
   "execution_count": 171,
   "metadata": {},
   "outputs": [
    {
     "name": "stdout",
     "output_type": "stream",
     "text": [
      "{1: {'name': 'anshuman', 'house': 'blue'}, 2: {'name': 'adya', 'house': 'red'}, 3: {'name': 'camp k12', 'house': 'white'}, 4: {'name': 'qwerty', 'house': 'tulip'}}\n"
     ]
    },
    {
     "data": {
      "text/plain": [
       "{1: {'name': 'anshuman', 'house': 'blue'},\n",
       " 2: {'name': 'adya', 'house': 'red'},\n",
       " 3: {'name': 'camp k12', 'house': 'white'},\n",
       " 4: {'name': 'qwerty', 'house': 'tulip'}}"
      ]
     },
     "execution_count": 171,
     "metadata": {},
     "output_type": "execute_result"
    }
   ],
   "source": [
    "print(clubbed)\n",
    "cdict.update(clubbed)\n",
    "clubbed"
   ]
  },
  {
   "cell_type": "code",
   "execution_count": 172,
   "metadata": {},
   "outputs": [
    {
     "data": {
      "text/plain": [
       "{1: {'name': 'anshuman', 'house': 'blue'},\n",
       " 2: {'name': 'adya', 'house': 'red'},\n",
       " 3: {'name': 'camp k12', 'house': 'white'},\n",
       " 4: {'name': 'qwerty', 'house': 'tulip'}}"
      ]
     },
     "execution_count": 172,
     "metadata": {},
     "output_type": "execute_result"
    }
   ],
   "source": [
    "clubbed"
   ]
  },
  {
   "cell_type": "code",
   "execution_count": null,
   "metadata": {},
   "outputs": [],
   "source": []
  }
 ],
 "metadata": {
  "kernelspec": {
   "display_name": "Python 3.7.7 64-bit",
   "language": "python",
   "name": "python37764bitebe77b468b6f4ffe93346f144dda6809"
  },
  "language_info": {
   "codemirror_mode": {
    "name": "ipython",
    "version": 3
   },
   "file_extension": ".py",
   "mimetype": "text/x-python",
   "name": "python",
   "nbconvert_exporter": "python",
   "pygments_lexer": "ipython3",
   "version": "3.7.7"
  }
 },
 "nbformat": 4,
 "nbformat_minor": 4
}
